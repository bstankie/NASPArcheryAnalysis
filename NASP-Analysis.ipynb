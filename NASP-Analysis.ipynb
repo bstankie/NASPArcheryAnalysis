{
 "cells": [
  {
   "cell_type": "markdown",
   "metadata": {},
   "source": [
    "# Overview\n",
    "\n",
    "This code is designed to take as input the [NASP Tournaments](https://nasptournaments.org/Schoolmgr/SeasonScoreSheet.aspx?oid=381) Archery Season Score Sheets and generate basic archery performance and plots. The scoresheets will be exported and stored in an S3 bucket.\n",
    "\n",
    "**Stretch Goal** Build an HTML parser that receives a school ID and calls the NASP Tournament site, parses HTML and creates plots.\n",
    "\n"
   ]
  },
  {
   "cell_type": "code",
   "execution_count": 4,
   "metadata": {},
   "outputs": [
    {
     "name": "stdout",
     "output_type": "stream",
     "text": [
      "Requirement already satisfied: s3fs in /opt/conda/lib/python3.7/site-packages (0.4.0)\n",
      "Requirement already satisfied: fsspec>=0.6.0 in /opt/conda/lib/python3.7/site-packages (from s3fs) (0.6.2)\n",
      "Requirement already satisfied: boto3>=1.9.91 in /opt/conda/lib/python3.7/site-packages (from s3fs) (1.11.6)\n",
      "Requirement already satisfied: botocore>=1.12.91 in /opt/conda/lib/python3.7/site-packages (from s3fs) (1.14.6)\n",
      "Requirement already satisfied: jmespath<1.0.0,>=0.7.1 in /opt/conda/lib/python3.7/site-packages (from boto3>=1.9.91->s3fs) (0.9.4)\n",
      "Requirement already satisfied: s3transfer<0.4.0,>=0.3.0 in /opt/conda/lib/python3.7/site-packages (from boto3>=1.9.91->s3fs) (0.3.1)\n",
      "Requirement already satisfied: python-dateutil<3.0.0,>=2.1 in /opt/conda/lib/python3.7/site-packages (from botocore>=1.12.91->s3fs) (2.8.1)\n",
      "Requirement already satisfied: docutils<0.16,>=0.10 in /opt/conda/lib/python3.7/site-packages (from botocore>=1.12.91->s3fs) (0.15.2)\n",
      "Requirement already satisfied: urllib3<1.26,>=1.20 in /opt/conda/lib/python3.7/site-packages (from botocore>=1.12.91->s3fs) (1.24.3)\n",
      "Requirement already satisfied: six>=1.5 in /opt/conda/lib/python3.7/site-packages (from python-dateutil<3.0.0,>=2.1->botocore>=1.12.91->s3fs) (1.14.0)\n",
      "Note: you may need to restart the kernel to use updated packages.\n"
     ]
    }
   ],
   "source": [
    "pip install s3fs"
   ]
  },
  {
   "cell_type": "code",
   "execution_count": 5,
   "metadata": {},
   "outputs": [
    {
     "name": "stdout",
     "output_type": "stream",
     "text": [
      "Requirement already satisfied: plotly in /opt/conda/lib/python3.7/site-packages (4.5.0)\n",
      "Requirement already satisfied: six in /opt/conda/lib/python3.7/site-packages (from plotly) (1.14.0)\n",
      "Requirement already satisfied: retrying>=1.3.3 in /opt/conda/lib/python3.7/site-packages (from plotly) (1.3.3)\n",
      "Note: you may need to restart the kernel to use updated packages.\n"
     ]
    }
   ],
   "source": [
    "pip install plotly"
   ]
  },
  {
   "cell_type": "code",
   "execution_count": 18,
   "metadata": {},
   "outputs": [
    {
     "data": {
      "text/html": [
       "<div>\n",
       "<style scoped>\n",
       "    .dataframe tbody tr th:only-of-type {\n",
       "        vertical-align: middle;\n",
       "    }\n",
       "\n",
       "    .dataframe tbody tr th {\n",
       "        vertical-align: top;\n",
       "    }\n",
       "\n",
       "    .dataframe thead th {\n",
       "        text-align: right;\n",
       "    }\n",
       "</style>\n",
       "<table border=\"1\" class=\"dataframe\">\n",
       "  <thead>\n",
       "    <tr style=\"text-align: right;\">\n",
       "      <th></th>\n",
       "      <th>TOURNAMENT_ID</th>\n",
       "      <th>TOURNAMENT_NAME</th>\n",
       "      <th>RANGE_TYPE</th>\n",
       "      <th>ARCHER_HISTORY_ID</th>\n",
       "      <th>FIRST_NAME</th>\n",
       "      <th>LAST_NAME</th>\n",
       "      <th>GENDER</th>\n",
       "      <th>GRADE</th>\n",
       "      <th>SHOOTER_NBR</th>\n",
       "      <th>SCORE</th>\n",
       "      <th>...</th>\n",
       "      <th>A_26</th>\n",
       "      <th>A_27</th>\n",
       "      <th>A_28</th>\n",
       "      <th>A_29</th>\n",
       "      <th>A_30</th>\n",
       "      <th>USE_FOR_TEAM</th>\n",
       "      <th>TEAM_NAME</th>\n",
       "      <th>TEAM_ID</th>\n",
       "      <th>SEASON</th>\n",
       "      <th>END_DATE</th>\n",
       "    </tr>\n",
       "  </thead>\n",
       "  <tbody>\n",
       "    <tr>\n",
       "      <th>0</th>\n",
       "      <td>5472</td>\n",
       "      <td>Faribault Falcon Classic</td>\n",
       "      <td>1015</td>\n",
       "      <td>369560</td>\n",
       "      <td>Thomas</td>\n",
       "      <td>Bahneman</td>\n",
       "      <td>M</td>\n",
       "      <td>5</td>\n",
       "      <td>10042</td>\n",
       "      <td>202</td>\n",
       "      <td>...</td>\n",
       "      <td>7</td>\n",
       "      <td>7</td>\n",
       "      <td>7</td>\n",
       "      <td>6</td>\n",
       "      <td>2</td>\n",
       "      <td>Y</td>\n",
       "      <td>ELEMENTARY Team #1</td>\n",
       "      <td>186258</td>\n",
       "      <td>2019-2020</td>\n",
       "      <td>1/11/2020 12:00:00 AM</td>\n",
       "    </tr>\n",
       "    <tr>\n",
       "      <th>1</th>\n",
       "      <td>5472</td>\n",
       "      <td>Faribault Falcon Classic</td>\n",
       "      <td>1015</td>\n",
       "      <td>370601</td>\n",
       "      <td>Abby</td>\n",
       "      <td>Bradley</td>\n",
       "      <td>F</td>\n",
       "      <td>5</td>\n",
       "      <td>10040</td>\n",
       "      <td>169</td>\n",
       "      <td>...</td>\n",
       "      <td>0</td>\n",
       "      <td>0</td>\n",
       "      <td>1</td>\n",
       "      <td>1</td>\n",
       "      <td>4</td>\n",
       "      <td>Y</td>\n",
       "      <td>ELEMENTARY Team #1</td>\n",
       "      <td>186258</td>\n",
       "      <td>2019-2020</td>\n",
       "      <td>1/11/2020 12:00:00 AM</td>\n",
       "    </tr>\n",
       "    <tr>\n",
       "      <th>2</th>\n",
       "      <td>5472</td>\n",
       "      <td>Faribault Falcon Classic</td>\n",
       "      <td>1015</td>\n",
       "      <td>369575</td>\n",
       "      <td>Hudson</td>\n",
       "      <td>Lauenstein</td>\n",
       "      <td>F</td>\n",
       "      <td>5</td>\n",
       "      <td>10099</td>\n",
       "      <td>262</td>\n",
       "      <td>...</td>\n",
       "      <td>10</td>\n",
       "      <td>9</td>\n",
       "      <td>9</td>\n",
       "      <td>9</td>\n",
       "      <td>8</td>\n",
       "      <td>Y</td>\n",
       "      <td>ELEMENTARY Team #1</td>\n",
       "      <td>186258</td>\n",
       "      <td>2019-2020</td>\n",
       "      <td>1/11/2020 12:00:00 AM</td>\n",
       "    </tr>\n",
       "    <tr>\n",
       "      <th>3</th>\n",
       "      <td>5472</td>\n",
       "      <td>Faribault Falcon Classic</td>\n",
       "      <td>1015</td>\n",
       "      <td>369577</td>\n",
       "      <td>Tyson</td>\n",
       "      <td>Most</td>\n",
       "      <td>M</td>\n",
       "      <td>5</td>\n",
       "      <td>10097</td>\n",
       "      <td>239</td>\n",
       "      <td>...</td>\n",
       "      <td>9</td>\n",
       "      <td>8</td>\n",
       "      <td>8</td>\n",
       "      <td>5</td>\n",
       "      <td>2</td>\n",
       "      <td>Y</td>\n",
       "      <td>ELEMENTARY Team #1</td>\n",
       "      <td>186258</td>\n",
       "      <td>2019-2020</td>\n",
       "      <td>1/11/2020 12:00:00 AM</td>\n",
       "    </tr>\n",
       "    <tr>\n",
       "      <th>4</th>\n",
       "      <td>5472</td>\n",
       "      <td>Faribault Falcon Classic</td>\n",
       "      <td>1015</td>\n",
       "      <td>369578</td>\n",
       "      <td>Emma</td>\n",
       "      <td>Peterson</td>\n",
       "      <td>F</td>\n",
       "      <td>5</td>\n",
       "      <td>10246</td>\n",
       "      <td>208</td>\n",
       "      <td>...</td>\n",
       "      <td>9</td>\n",
       "      <td>9</td>\n",
       "      <td>4</td>\n",
       "      <td>7</td>\n",
       "      <td>2</td>\n",
       "      <td>Y</td>\n",
       "      <td>ELEMENTARY Team #1</td>\n",
       "      <td>186258</td>\n",
       "      <td>2019-2020</td>\n",
       "      <td>1/11/2020 12:00:00 AM</td>\n",
       "    </tr>\n",
       "  </tbody>\n",
       "</table>\n",
       "<p>5 rows × 45 columns</p>\n",
       "</div>"
      ],
      "text/plain": [
       "   TOURNAMENT_ID           TOURNAMENT_NAME RANGE_TYPE  ARCHER_HISTORY_ID  \\\n",
       "0           5472  Faribault Falcon Classic       1015             369560   \n",
       "1           5472  Faribault Falcon Classic       1015             370601   \n",
       "2           5472  Faribault Falcon Classic       1015             369575   \n",
       "3           5472  Faribault Falcon Classic       1015             369577   \n",
       "4           5472  Faribault Falcon Classic       1015             369578   \n",
       "\n",
       "  FIRST_NAME   LAST_NAME GENDER  GRADE  SHOOTER_NBR  SCORE  ...  A_26  A_27  \\\n",
       "0     Thomas    Bahneman      M      5        10042    202  ...     7     7   \n",
       "1       Abby     Bradley      F      5        10040    169  ...     0     0   \n",
       "2     Hudson  Lauenstein      F      5        10099    262  ...    10     9   \n",
       "3      Tyson        Most      M      5        10097    239  ...     9     8   \n",
       "4       Emma    Peterson      F      5        10246    208  ...     9     9   \n",
       "\n",
       "   A_28  A_29  A_30  USE_FOR_TEAM           TEAM_NAME  TEAM_ID     SEASON  \\\n",
       "0     7     6     2             Y  ELEMENTARY Team #1   186258  2019-2020   \n",
       "1     1     1     4             Y  ELEMENTARY Team #1   186258  2019-2020   \n",
       "2     9     9     8             Y  ELEMENTARY Team #1   186258  2019-2020   \n",
       "3     8     5     2             Y  ELEMENTARY Team #1   186258  2019-2020   \n",
       "4     4     7     2             Y  ELEMENTARY Team #1   186258  2019-2020   \n",
       "\n",
       "                END_DATE  \n",
       "0  1/11/2020 12:00:00 AM  \n",
       "1  1/11/2020 12:00:00 AM  \n",
       "2  1/11/2020 12:00:00 AM  \n",
       "3  1/11/2020 12:00:00 AM  \n",
       "4  1/11/2020 12:00:00 AM  \n",
       "\n",
       "[5 rows x 45 columns]"
      ]
     },
     "execution_count": 18,
     "metadata": {},
     "output_type": "execute_result"
    }
   ],
   "source": [
    "# Read from the S3 Bucket\n",
    "import pandas as pd\n",
    "import s3fs\n",
    "import boto3\n",
    "fs = s3fs.S3FileSystem()\n",
    "\n",
    "bucket='scpa-data'\n",
    "data_key = 'NASPSeasonScoreSheet.csv'\n",
    "data_location = 's3://{}/{}'.format(bucket, data_key)\n",
    "NASPData=pd.read_csv(data_location)\n",
    "NASPData.head()\n"
   ]
  },
  {
   "cell_type": "code",
   "execution_count": 29,
   "metadata": {},
   "outputs": [],
   "source": [
    "from datetime import datetime\n",
    "ArcherScore=[]\n",
    "ArcherName=[]\n",
    "IndexList=[]\n",
    "TournamentDate=[]\n",
    "for currItem in range(len(NASPData)):\n",
    "    #print('%i'% currItem)\n",
    "    #print(NASPData.loc[currItem]['LAST_NAME'])\n",
    "    # 1/11/2020 12:00:00 AM\n",
    "    TournamentDate.append(datetime.strptime(NASPData.loc[currItem]['END_DATE'],'%m/%d/%Y %I:%M:%S %p'))\n",
    "    ArcherScore.append(NASPData.loc[currItem]['SCORE'])\n",
    "    IndexList.append(currItem)\n",
    "    ArcherName.append('{}-{}'.format(NASPData.loc[currItem]['LAST_NAME'],NASPData.loc[currItem]['FIRST_NAME']))\n",
    "\n",
    "    # print('%s(%s):%i' % (ArcherName,TournamentDate,ArcherScore))\n",
    "\n",
    "data = {'NAME':ArcherName, 'DATE':TournamentDate, 'SCORE':ArcherScore} \n",
    "\n",
    "df = pd.DataFrame(data) \n",
    "#df\n",
    "\n",
    "ArcherSeriesData=df.loc[df['NAME'] == 'STANKIEWICZ-NICHOLAS']\n"
   ]
  },
  {
   "cell_type": "code",
   "execution_count": 12,
   "metadata": {},
   "outputs": [],
   "source": [
    "import plotly.graph_objects as go\n",
    "fig = go.Figure(\n",
    "    data=[go.Bar(y=[2, 1, 3])],\n",
    "    layout_title_text=\"A Figure Displayed with fig.show()\"\n",
    ")\n"
   ]
  },
  {
   "cell_type": "code",
   "execution_count": 13,
   "metadata": {},
   "outputs": [],
   "source": [
    "import matplotlib.pyplot as plt"
   ]
  },
  {
   "cell_type": "code",
   "execution_count": 14,
   "metadata": {},
   "outputs": [
    {
     "data": {
      "text/plain": [
       "Text(0, 0.5, 'Position (km)')"
      ]
     },
     "execution_count": 14,
     "metadata": {},
     "output_type": "execute_result"
    },
    {
     "data": {
      "image/png": "[encoded data removed]",
      "text/plain": [
       "<Figure size 432x288 with 1 Axes>"
      ]
     },
     "metadata": {
      "needs_background": "light"
     },
     "output_type": "display_data"
    }
   ],
   "source": [
    "time = [0, 1, 2, 3]\n",
    "position = [0, 100, 200, 300]\n",
    "\n",
    "plt.plot(time, position)\n",
    "plt.xlabel('Time (hr)')\n",
    "plt.ylabel('Position (km)')"
   ]
  },
  {
   "cell_type": "code",
   "execution_count": 30,
   "metadata": {},
   "outputs": [
    {
     "data": {
      "image/png": "[encoded data removed]",
      "text/plain": [
       "<Figure size 432x288 with 1 Axes>"
      ]
     },
     "metadata": {
      "needs_background": "light"
     },
     "output_type": "display_data"
    }
   ],
   "source": [
    "ArcherSeriesData.plot(kind='line',x='DATE',y='SCORE',color='red')\n",
    "plt.show()"
   ]
  },
  {
   "cell_type": "code",
   "execution_count": null,
   "metadata": {},
   "outputs": [],
   "source": []
  }
 ],
 "metadata": {
  "kernelspec": {
   "display_name": "Python 3 (Data Science)",
   "language": "python",
   "name": "python3__SAGEMAKER_INTERNAL__arn:aws:sagemaker:us-east-2:429704687514:environment/datascience"
  },
  "language_info": {
   "codemirror_mode": {
    "name": "ipython",
    "version": 3
   },
   "file_extension": ".py",
   "mimetype": "text/x-python",
   "name": "python",
   "nbconvert_exporter": "python",
   "pygments_lexer": "ipython3",
   "version": "3.7.6"
  }
 },
 "nbformat": 4,
 "nbformat_minor": 4
}
