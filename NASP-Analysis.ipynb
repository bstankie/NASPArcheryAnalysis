{
 "cells": [
  {
   "cell_type": "markdown",
   "metadata": {},
   "source": [
    "# Overview\n",
    "\n",
    "This code is designed to take as input the [NASP Tournaments](https://nasptournaments.org/Schoolmgr/SeasonScoreSheet.aspx?oid=381) Archery Season Score Sheets and generate basic archery performance and plots. The scoresheets will be exported and stored in an S3 bucket.\n",
    "\n",
    "**Stretch Goal** Build an HTML parser that receives a school ID and calls the NASP Tournament site, parses HTML and creates plots.\n",
    "\n"
   ]
  },
  {
   "cell_type": "code",
   "execution_count": 4,
   "metadata": {},
   "outputs": [
    {
     "name": "stdout",
     "output_type": "stream",
     "text": [
      "Requirement already satisfied: s3fs in /opt/conda/lib/python3.7/site-packages (0.4.0)\n",
      "Requirement already satisfied: fsspec>=0.6.0 in /opt/conda/lib/python3.7/site-packages (from s3fs) (0.6.2)\n",
      "Requirement already satisfied: boto3>=1.9.91 in /opt/conda/lib/python3.7/site-packages (from s3fs) (1.11.6)\n",
      "Requirement already satisfied: botocore>=1.12.91 in /opt/conda/lib/python3.7/site-packages (from s3fs) (1.14.6)\n",
      "Requirement already satisfied: jmespath<1.0.0,>=0.7.1 in /opt/conda/lib/python3.7/site-packages (from boto3>=1.9.91->s3fs) (0.9.4)\n",
      "Requirement already satisfied: s3transfer<0.4.0,>=0.3.0 in /opt/conda/lib/python3.7/site-packages (from boto3>=1.9.91->s3fs) (0.3.1)\n",
      "Requirement already satisfied: python-dateutil<3.0.0,>=2.1 in /opt/conda/lib/python3.7/site-packages (from botocore>=1.12.91->s3fs) (2.8.1)\n",
      "Requirement already satisfied: docutils<0.16,>=0.10 in /opt/conda/lib/python3.7/site-packages (from botocore>=1.12.91->s3fs) (0.15.2)\n",
      "Requirement already satisfied: urllib3<1.26,>=1.20 in /opt/conda/lib/python3.7/site-packages (from botocore>=1.12.91->s3fs) (1.24.3)\n",
      "Requirement already satisfied: six>=1.5 in /opt/conda/lib/python3.7/site-packages (from python-dateutil<3.0.0,>=2.1->botocore>=1.12.91->s3fs) (1.14.0)\n",
      "Note: you may need to restart the kernel to use updated packages.\n"
     ]
    }
   ],
   "source": [
    "pip install s3fs"
   ]
  },
  {
   "cell_type": "code",
   "execution_count": 5,
   "metadata": {},
   "outputs": [
    {
     "name": "stdout",
     "output_type": "stream",
     "text": [
      "Requirement already satisfied: plotly in /opt/conda/lib/python3.7/site-packages (4.5.0)\n",
      "Requirement already satisfied: six in /opt/conda/lib/python3.7/site-packages (from plotly) (1.14.0)\n",
      "Requirement already satisfied: retrying>=1.3.3 in /opt/conda/lib/python3.7/site-packages (from plotly) (1.3.3)\n",
      "Note: you may need to restart the kernel to use updated packages.\n"
     ]
    }
   ],
   "source": [
    "pip install plotly"
   ]
  },
  {
   "cell_type": "code",
   "execution_count": 6,
   "metadata": {},
   "outputs": [],
   "source": [
    "# Read from the S3 Bucket\n",
    "import pandas as pd\n",
    "import s3fs\n",
    "import boto3\n",
    "fs = s3fs.S3FileSystem()\n",
    "\n",
    "bucket='scpa-data'\n",
    "data_key = 'NASPSeasonScoreSheet.csv'\n",
    "data_location = 's3://{}/{}'.format(bucket, data_key)\n",
    "NASPData=pd.read_csv(data_location)\n"
   ]
  },
  {
   "cell_type": "code",
   "execution_count": 7,
   "metadata": {},
   "outputs": [],
   "source": [
    "ArcherScore=[]\n",
    "ArcherName=[]\n",
    "IndexList=[]\n",
    "TournamentDate=[]\n",
    "for currItem in range(len(NASPData)):\n",
    "    #print('%i'% currItem)\n",
    "    #print(NASPData.loc[currItem]['LAST_NAME'])\n",
    "    TournamentDate.append(NASPData.loc[currItem]['END_DATE'])\n",
    "    ArcherScore.append(NASPData.loc[currItem]['SCORE'])\n",
    "    IndexList.append(currItem)\n",
    "    ArcherName.append('{}-{}'.format(NASPData.loc[currItem]['LAST_NAME'],NASPData.loc[currItem]['FIRST_NAME']))\n",
    "\n",
    "    # print('%s(%s):%i' % (ArcherName,TournamentDate,ArcherScore))\n",
    "\n",
    "data = {'NAME':ArcherName, 'DATE':TournamentDate, 'SCORE':ArcherScore} \n",
    "\n",
    "df = pd.DataFrame(data) \n",
    "#df\n",
    "\n",
    "ArcherSeriesData=df.loc[df['NAME'] == 'STANKIEWICZ-NICHOLAS']\n"
   ]
  },
  {
   "cell_type": "code",
   "execution_count": null,
   "metadata": {},
   "outputs": [],
   "source": [
    "import plotly.graph_objects as go\n",
    "fig = go.Figure(\n",
    "    data=[go.Bar(y=[2, 1, 3])],\n",
    "    layout_title_text=\"A Figure Displayed with fig.show()\"\n",
    ")\n",
    "fig.show()"
   ]
  },
  {
   "cell_type": "code",
   "execution_count": null,
   "metadata": {},
   "outputs": [],
   "source": []
  }
 ],
 "metadata": {
  "kernelspec": {
   "display_name": "Python 3 (Data Science)",
   "language": "python",
   "name": "python3__SAGEMAKER_INTERNAL__arn:aws:sagemaker:us-east-2:429704687514:environment/datascience"
  },
  "language_info": {
   "codemirror_mode": {
    "name": "ipython",
    "version": 3
   },
   "file_extension": ".py",
   "mimetype": "text/x-python",
   "name": "python",
   "nbconvert_exporter": "python",
   "pygments_lexer": "ipython3",
   "version": "3.7.6"
  }
 },
 "nbformat": 4,
 "nbformat_minor": 4
}
